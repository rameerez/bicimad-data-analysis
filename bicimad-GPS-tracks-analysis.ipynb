{
 "cells": [
  {
   "cell_type": "markdown",
   "metadata": {},
   "source": [
    "# BiciMAD - GPS bike tracks analysis\n",
    "\n",
    "Copyright © 2017 Javi Ramírez <javi.rmrz@gmail.com> | [@rameerez [tw]](http://twitter.com/rameerez) | [GitHub](http://github.com/rameerez)\n",
    "\n",
    "This code is Open Source, released under the MIT License."
   ]
  },
  {
   "cell_type": "markdown",
   "metadata": {},
   "source": [
    "## Description\n",
    "\n",
    "BiciMAD packs GPS track info (the GPS route the user took, including speed data) along with some of their rides instances. They provide this data in GeoJSON format. \n",
    "\n",
    "Unfortunately, the GeoJSON stored by BiciMad is not in a valid GeoJSON format :(\n",
    "\n",
    " - Single quotes `(')` should be double quotes `(\")`\n",
    " - A `FeatureCollection` GeoJSON should be of this form:\n",
    "    ```\n",
    "    { \"type\": \"FeatureCollection\",\n",
    "      \"features\": [\n",
    "      .\n",
    "      .\n",
    "      .\n",
    "     ]}\n",
    "    ```\n",
    "    Instead of:\n",
    "    ```\n",
    "    {'FeatureCollection': \n",
    "        {'Features': [\n",
    "        ]}\n",
    "    }\n",
    "    ```\n",
    " - The `features` property should be lowercase\n",
    "    \n",
    "Useful links:\n",
    " - [GeoJSON specification (RFC7946)](https://tools.ietf.org/html/rfc7946)\n",
    " - [Online GeoJSON linter, validator & viewer](http://geojsonlint.com)\n",
    " \n",
    "----"
   ]
  },
  {
   "cell_type": "markdown",
   "metadata": {},
   "source": [
    "## Global definitions"
   ]
  },
  {
   "cell_type": "code",
   "execution_count": null,
   "metadata": {
    "collapsed": true
   },
   "outputs": [],
   "source": [
    "# Data describing all bike rides\n",
    "BIKE_RIDES_DATASET = './data/export_20170301_20170406.json'\n",
    "# Data describing all stations (used just for getting stations' coordinates & names)\n",
    "STATIONS_DATASET = './data/stations.json'"
   ]
  },
  {
   "cell_type": "markdown",
   "metadata": {},
   "source": [
    "## Imports & data loading"
   ]
  },
  {
   "cell_type": "code",
   "execution_count": null,
   "metadata": {
    "collapsed": true
   },
   "outputs": [],
   "source": [
    "%matplotlib inline\n",
    "import pandas as pd\n",
    "import numpy as np\n",
    "import math\n",
    "from pandas.io.json import json_normalize"
   ]
  },
  {
   "cell_type": "code",
   "execution_count": null,
   "metadata": {
    "collapsed": true
   },
   "outputs": [],
   "source": [
    "from bokeh.io import output_file, output_notebook, show\n",
    "from bokeh.models import (\n",
    "  GMapPlot, GMapOptions, ColumnDataSource, Circle, DataRange1d, PanTool, WheelZoomTool, BoxSelectTool\n",
    ")\n",
    "from bokeh.plotting import figure\n",
    "from bokeh.sampledata.sample_geojson import geojson"
   ]
  },
  {
   "cell_type": "code",
   "execution_count": null,
   "metadata": {
    "collapsed": false
   },
   "outputs": [],
   "source": [
    "output_notebook()"
   ]
  },
  {
   "cell_type": "code",
   "execution_count": null,
   "metadata": {
    "collapsed": true
   },
   "outputs": [],
   "source": [
    "df = pd.read_json(BIKE_RIDES_DATASET, lines=True)"
   ]
  },
  {
   "cell_type": "markdown",
   "metadata": {},
   "source": [
    "## GPS tracks analysis"
   ]
  },
  {
   "cell_type": "code",
   "execution_count": null,
   "metadata": {
    "collapsed": false,
    "scrolled": true
   },
   "outputs": [],
   "source": [
    "# Lets filter our DataFrame and get a DataFrame only with entries containing a not-NaN \"track\" property\n",
    "df_track = df.loc[df.track.notnull()]"
   ]
  },
  {
   "cell_type": "markdown",
   "metadata": {},
   "source": [
    "### Work in progress!\n",
    "\n",
    "To-do:\n",
    "\n",
    " - Convert data into valid GeoJSON data\n",
    " - Find suitable library to plot GeoJSONs\n"
   ]
  }
 ],
 "metadata": {
  "kernelspec": {
   "display_name": "Python 3",
   "language": "python",
   "name": "python3"
  },
  "language_info": {
   "codemirror_mode": {
    "name": "ipython",
    "version": 3
   },
   "file_extension": ".py",
   "mimetype": "text/x-python",
   "name": "python",
   "nbconvert_exporter": "python",
   "pygments_lexer": "ipython3",
   "version": "3.5.3"
  }
 },
 "nbformat": 4,
 "nbformat_minor": 0
}
