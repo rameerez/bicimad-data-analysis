{
 "cells": [
  {
   "cell_type": "markdown",
   "metadata": {},
   "source": [
    "# BiciMAD - Machine learning predictions\n",
    "\n",
    "Copyright © 2017 Javi Ramírez <javi.rmrz@gmail.com> | [@rameerez [tw]](http://twitter.com/rameerez) | [GitHub](http://github.com/rameerez)\n",
    "\n",
    "This code is Open Source, released under the MIT License."
   ]
  },
  {
   "cell_type": "markdown",
   "metadata": {},
   "source": [
    "## Why/what\n",
    "We've studied the actual BiciMAD users' behavior in other notebooks – but can we predict user behavior using Artificial Intelligence?"
   ]
  },
  {
   "cell_type": "markdown",
   "metadata": {},
   "source": [
    "## Data sources\n",
    "\n",
    "Apart from BiciMAD's data, we're using meteo data. All credits to [AEMET OpenData](http://www.aemet.es/es/datos_abiertos/AEMET_OpenData) (Spanish Meteorological Agency).\n",
    "\n",
    "I tried to get hourly meteo observations for the month of March 2017, but couldn't find any source. Therefore we'll be grouping data by day."
   ]
  },
  {
   "cell_type": "markdown",
   "metadata": {},
   "source": [
    "## Definitions"
   ]
  },
  {
   "cell_type": "code",
   "execution_count": 2,
   "metadata": {
    "collapsed": true
   },
   "outputs": [],
   "source": [
    "# Data describing all bike rides\n",
    "BIKE_RIDES_DATASET = './data/export_20170301_20170406.json'\n",
    "# Data describing all stations (used just for getting stations' coordinates & names)\n",
    "STATIONS_DATASET = './data/stations.json'"
   ]
  },
  {
   "cell_type": "code",
   "execution_count": 96,
   "metadata": {
    "collapsed": true
   },
   "outputs": [],
   "source": [
    "# AEMET's (Spanish Meteorological Agency) observations in Madrid (Retiro) for each day in March 2017\n",
    "MARCH_WEATHER_DATASET = './data/march_weather_madrid_retiro.json'"
   ]
  },
  {
   "cell_type": "code",
   "execution_count": 12,
   "metadata": {
    "collapsed": true
   },
   "outputs": [],
   "source": [
    "%matplotlib inline\n",
    "import pandas as pd\n",
    "import numpy as np\n",
    "import math\n",
    "import dateutil.parser\n",
    "from pandas.io.json import json_normalize"
   ]
  },
  {
   "cell_type": "code",
   "execution_count": 4,
   "metadata": {
    "collapsed": true
   },
   "outputs": [],
   "source": [
    "import tflearn"
   ]
  },
  {
   "cell_type": "code",
   "execution_count": 5,
   "metadata": {
    "collapsed": true
   },
   "outputs": [],
   "source": [
    "df = pd.read_json(BIKE_RIDES_DATASET, lines=True)"
   ]
  },
  {
   "cell_type": "code",
   "execution_count": 6,
   "metadata": {
    "collapsed": false
   },
   "outputs": [
    {
     "data": {
      "text/html": [
       "<div>\n",
       "<style scoped>\n",
       "    .dataframe tbody tr th:only-of-type {\n",
       "        vertical-align: middle;\n",
       "    }\n",
       "\n",
       "    .dataframe tbody tr th {\n",
       "        vertical-align: top;\n",
       "    }\n",
       "\n",
       "    .dataframe thead th {\n",
       "        text-align: right;\n",
       "    }\n",
       "</style>\n",
       "<table border=\"1\" class=\"dataframe\">\n",
       "  <thead>\n",
       "    <tr style=\"text-align: right;\">\n",
       "      <th></th>\n",
       "      <th>_id</th>\n",
       "      <th>ageRange</th>\n",
       "      <th>idplug_base</th>\n",
       "      <th>idplug_station</th>\n",
       "      <th>idunplug_base</th>\n",
       "      <th>idunplug_station</th>\n",
       "      <th>track</th>\n",
       "      <th>travel_time</th>\n",
       "      <th>unplug_hourTime</th>\n",
       "      <th>user_day_code</th>\n",
       "      <th>user_type</th>\n",
       "      <th>zip_code</th>\n",
       "    </tr>\n",
       "  </thead>\n",
       "  <tbody>\n",
       "    <tr>\n",
       "      <th>0</th>\n",
       "      <td>{'$oid': '58d1b3dd865e9c30d0b83c6f'}</td>\n",
       "      <td>4</td>\n",
       "      <td>4</td>\n",
       "      <td>17</td>\n",
       "      <td>5</td>\n",
       "      <td>14</td>\n",
       "      <td>NaN</td>\n",
       "      <td>2303</td>\n",
       "      <td>{'$date': '2017-03-01T00:00:00.000+0100'}</td>\n",
       "      <td>cc6d426ada96494d8dfe0fe0af512599f439cd9413d50c...</td>\n",
       "      <td>1</td>\n",
       "      <td>28012</td>\n",
       "    </tr>\n",
       "    <tr>\n",
       "      <th>1</th>\n",
       "      <td>{'$oid': '58d1b3dc865e9c30d0b83c6c'}</td>\n",
       "      <td>4</td>\n",
       "      <td>2</td>\n",
       "      <td>76</td>\n",
       "      <td>22</td>\n",
       "      <td>123</td>\n",
       "      <td>NaN</td>\n",
       "      <td>876</td>\n",
       "      <td>{'$date': '2017-03-01T00:00:00.000+0100'}</td>\n",
       "      <td>a81b44c3fe3c2f1e4bf723d228a0d025962228179c2e4d...</td>\n",
       "      <td>1</td>\n",
       "      <td>28009</td>\n",
       "    </tr>\n",
       "    <tr>\n",
       "      <th>2</th>\n",
       "      <td>{'$oid': '58d1b3dc865e9c30d0b83c6a'}</td>\n",
       "      <td>5</td>\n",
       "      <td>16</td>\n",
       "      <td>163</td>\n",
       "      <td>19</td>\n",
       "      <td>166</td>\n",
       "      <td>NaN</td>\n",
       "      <td>483</td>\n",
       "      <td>{'$date': '2017-03-01T00:00:00.000+0100'}</td>\n",
       "      <td>b20f0b657c493842b0aa5ebd32eed5d940c699715ee8bc...</td>\n",
       "      <td>1</td>\n",
       "      <td>28010</td>\n",
       "    </tr>\n",
       "  </tbody>\n",
       "</table>\n",
       "</div>"
      ],
      "text/plain": [
       "                                    _id  ageRange  idplug_base  \\\n",
       "0  {'$oid': '58d1b3dd865e9c30d0b83c6f'}         4            4   \n",
       "1  {'$oid': '58d1b3dc865e9c30d0b83c6c'}         4            2   \n",
       "2  {'$oid': '58d1b3dc865e9c30d0b83c6a'}         5           16   \n",
       "\n",
       "   idplug_station  idunplug_base  idunplug_station track  travel_time  \\\n",
       "0              17              5                14   NaN         2303   \n",
       "1              76             22               123   NaN          876   \n",
       "2             163             19               166   NaN          483   \n",
       "\n",
       "                             unplug_hourTime  \\\n",
       "0  {'$date': '2017-03-01T00:00:00.000+0100'}   \n",
       "1  {'$date': '2017-03-01T00:00:00.000+0100'}   \n",
       "2  {'$date': '2017-03-01T00:00:00.000+0100'}   \n",
       "\n",
       "                                       user_day_code  user_type zip_code  \n",
       "0  cc6d426ada96494d8dfe0fe0af512599f439cd9413d50c...          1    28012  \n",
       "1  a81b44c3fe3c2f1e4bf723d228a0d025962228179c2e4d...          1    28009  \n",
       "2  b20f0b657c493842b0aa5ebd32eed5d940c699715ee8bc...          1    28010  "
      ]
     },
     "execution_count": 6,
     "metadata": {},
     "output_type": "execute_result"
    }
   ],
   "source": [
    "df[:3]"
   ]
  },
  {
   "cell_type": "markdown",
   "metadata": {},
   "source": [
    "## Converting unplug time JSON to valid Datetime\n",
    "Unfortunately the `unplug_hourTime` comes in an unnecesarily descriptive JSON. Let's convert that to a valid `Datetime` so we can do stuff like `date.month`"
   ]
  },
  {
   "cell_type": "code",
   "execution_count": 27,
   "metadata": {
    "collapsed": false
   },
   "outputs": [],
   "source": [
    "def parse_unplug_datetime(row):\n",
    "    date_as_string = row['unplug_hourTime']['$date']\n",
    "    return dateutil.parser.parse(date_as_string)"
   ]
  },
  {
   "cell_type": "code",
   "execution_count": 28,
   "metadata": {
    "collapsed": true
   },
   "outputs": [],
   "source": [
    "df['unplug_datetime'] = df.apply(parse_unplug_datetime, axis=1)"
   ]
  },
  {
   "cell_type": "markdown",
   "metadata": {},
   "source": [
    "Yay! Valid datetimes. Let's now group by month, day and hour and plot the number of rides by hour"
   ]
  },
  {
   "cell_type": "code",
   "execution_count": 43,
   "metadata": {
    "collapsed": false
   },
   "outputs": [],
   "source": [
    "times = pd.DatetimeIndex(df.unplug_datetime)"
   ]
  },
  {
   "cell_type": "code",
   "execution_count": 147,
   "metadata": {
    "collapsed": false
   },
   "outputs": [
    {
     "data": {
      "text/plain": [
       "<matplotlib.axes._subplots.AxesSubplot at 0x15996c470>"
      ]
     },
     "execution_count": 147,
     "metadata": {},
     "output_type": "execute_result"
    },
    {
     "data": {
      "image/png": "[encoded data removed]",
      "text/plain": [
       "<matplotlib.figure.Figure at 0x159f76b70>"
      ]
     },
     "metadata": {},
     "output_type": "display_data"
    }
   ],
   "source": [
    "df.groupby([times.month, times.day])._id.count().plot()"
   ]
  },
  {
   "cell_type": "markdown",
   "metadata": {},
   "source": [
    "The dataset contains data for the entire month of March and some days of April. Let's filter and get just March data."
   ]
  },
  {
   "cell_type": "code",
   "execution_count": 91,
   "metadata": {
    "collapsed": false
   },
   "outputs": [],
   "source": [
    "march_df = df[times.month == 3]\n",
    "march_times = pd.DatetimeIndex(march_df.unplug_datetime)"
   ]
  },
  {
   "cell_type": "code",
   "execution_count": 166,
   "metadata": {
    "collapsed": false
   },
   "outputs": [
    {
     "data": {
      "text/plain": [
       "<matplotlib.axes._subplots.AxesSubplot at 0x150007048>"
      ]
     },
     "execution_count": 166,
     "metadata": {},
     "output_type": "execute_result"
    },
    {
     "data": {
      "image/png": "[encoded data removed]",
      "text/plain": [
       "<matplotlib.figure.Figure at 0x14ff68b00>"
      ]
     },
     "metadata": {},
     "output_type": "display_data"
    }
   ],
   "source": [
    "march_df.groupby([march_times.month, march_times.day])._id.count().plot(legend=False, rot=90, xticks=pd.Series(range(1,31)))"
   ]
  },
  {
   "cell_type": "markdown",
   "metadata": {},
   "source": [
    "## Does weather affect bike usage?"
   ]
  },
  {
   "cell_type": "code",
   "execution_count": 101,
   "metadata": {
    "collapsed": false,
    "scrolled": true
   },
   "outputs": [],
   "source": [
    "# Caution! orient='records' is required!\n",
    "march_weather_df = pd.read_json(MARCH_WEATHER_DATASET, orient='records')"
   ]
  },
  {
   "cell_type": "code",
   "execution_count": 110,
   "metadata": {
    "collapsed": false
   },
   "outputs": [
    {
     "data": {
      "text/html": [
       "<div>\n",
       "<style scoped>\n",
       "    .dataframe tbody tr th:only-of-type {\n",
       "        vertical-align: middle;\n",
       "    }\n",
       "\n",
       "    .dataframe tbody tr th {\n",
       "        vertical-align: top;\n",
       "    }\n",
       "\n",
       "    .dataframe thead th {\n",
       "        text-align: right;\n",
       "    }\n",
       "</style>\n",
       "<table border=\"1\" class=\"dataframe\">\n",
       "  <thead>\n",
       "    <tr style=\"text-align: right;\">\n",
       "      <th></th>\n",
       "      <th>altitud</th>\n",
       "      <th>dir</th>\n",
       "      <th>fecha</th>\n",
       "      <th>horaPresMax</th>\n",
       "      <th>horaPresMin</th>\n",
       "      <th>horaracha</th>\n",
       "      <th>horatmax</th>\n",
       "      <th>horatmin</th>\n",
       "      <th>indicativo</th>\n",
       "      <th>nombre</th>\n",
       "      <th>prec</th>\n",
       "      <th>presMax</th>\n",
       "      <th>presMin</th>\n",
       "      <th>provincia</th>\n",
       "      <th>racha</th>\n",
       "      <th>tmax</th>\n",
       "      <th>tmed</th>\n",
       "      <th>tmin</th>\n",
       "      <th>velmedia</th>\n",
       "    </tr>\n",
       "  </thead>\n",
       "  <tbody>\n",
       "    <tr>\n",
       "      <th>0</th>\n",
       "      <td>667</td>\n",
       "      <td>26</td>\n",
       "      <td>2017-03-01</td>\n",
       "      <td>11</td>\n",
       "      <td>00</td>\n",
       "      <td>00:00</td>\n",
       "      <td>16:10</td>\n",
       "      <td>06:50</td>\n",
       "      <td>3195</td>\n",
       "      <td>MADRID, RETIRO</td>\n",
       "      <td>0,0</td>\n",
       "      <td>944,2</td>\n",
       "      <td>940,5</td>\n",
       "      <td>MADRID</td>\n",
       "      <td>6,9</td>\n",
       "      <td>16,0</td>\n",
       "      <td>10,6</td>\n",
       "      <td>5,2</td>\n",
       "      <td>1,1</td>\n",
       "    </tr>\n",
       "  </tbody>\n",
       "</table>\n",
       "</div>"
      ],
      "text/plain": [
       "   altitud  dir       fecha horaPresMax horaPresMin horaracha horatmax  \\\n",
       "0      667   26  2017-03-01          11          00     00:00    16:10   \n",
       "\n",
       "  horatmin  indicativo          nombre prec presMax presMin provincia racha  \\\n",
       "0    06:50        3195  MADRID, RETIRO  0,0   944,2   940,5    MADRID   6,9   \n",
       "\n",
       "   tmax  tmed tmin velmedia  \n",
       "0  16,0  10,6  5,2      1,1  "
      ]
     },
     "execution_count": 110,
     "metadata": {},
     "output_type": "execute_result"
    }
   ],
   "source": [
    "march_weather_df[:1]"
   ]
  },
  {
   "cell_type": "markdown",
   "metadata": {},
   "source": [
    "Well, shit. Is nobody going to record their data in a freaking valid way? Those \"float\" numbers are NOT numbers – they are strings! The only valid float separator is a point `.`, not a comma `,`. Time to clean (again) our data:"
   ]
  },
  {
   "cell_type": "code",
   "execution_count": 120,
   "metadata": {
    "collapsed": true
   },
   "outputs": [],
   "source": [
    "def comma_string_to_float(float_string):\n",
    "    return float(float_string.replace(\".\",\"\").replace(\",\",\".\"))\n",
    "\n",
    "#TO-DO!!!!!!!! parse the rest of the columns\n",
    "def parse_rain_float_in_table(row):\n",
    "    return comma_string_to_float(row['prec'])"
   ]
  },
  {
   "cell_type": "code",
   "execution_count": 116,
   "metadata": {
    "collapsed": true
   },
   "outputs": [],
   "source": [
    "march_weather_df['rain'] = march_weather_df.apply(parse_rain_float_in_table, axis=1)"
   ]
  },
  {
   "cell_type": "code",
   "execution_count": 119,
   "metadata": {
    "collapsed": false
   },
   "outputs": [
    {
     "data": {
      "text/plain": [
       "<matplotlib.axes._subplots.AxesSubplot at 0x161a27240>"
      ]
     },
     "execution_count": 119,
     "metadata": {},
     "output_type": "execute_result"
    },
    {
     "data": {
      "image/png": "[encoded data removed]",
      "text/plain": [
       "<matplotlib.figure.Figure at 0x1617dc278>"
      ]
     },
     "metadata": {},
     "output_type": "display_data"
    }
   ],
   "source": [
    "march_weather_df.rain.plot()"
   ]
  },
  {
   "cell_type": "markdown",
   "metadata": {},
   "source": [
    "Interesting! Rain seems to be the inverse of usage! Let's recall:"
   ]
  },
  {
   "cell_type": "code",
   "execution_count": 167,
   "metadata": {
    "collapsed": false
   },
   "outputs": [
    {
     "data": {
      "text/plain": [
       "<matplotlib.axes._subplots.AxesSubplot at 0x14f8339b0>"
      ]
     },
     "execution_count": 167,
     "metadata": {},
     "output_type": "execute_result"
    },
    {
     "data": {
      "image/png": "[encoded data removed]",
      "text/plain": [
       "<matplotlib.figure.Figure at 0x14f7e39b0>"
      ]
     },
     "metadata": {},
     "output_type": "display_data"
    }
   ],
   "source": [
    "march_df.groupby([march_times.month, march_times.day])._id.count().plot(legend=False, rot=90, xticks=pd.Series(range(1,31)))"
   ]
  }
 ],
 "metadata": {
  "kernelspec": {
   "display_name": "Python 3",
   "language": "python",
   "name": "python3"
  },
  "language_info": {
   "codemirror_mode": {
    "name": "ipython",
    "version": 3
   },
   "file_extension": ".py",
   "mimetype": "text/x-python",
   "name": "python",
   "nbconvert_exporter": "python",
   "pygments_lexer": "ipython3",
   "version": "3.5.3"
  }
 },
 "nbformat": 4,
 "nbformat_minor": 0
}
