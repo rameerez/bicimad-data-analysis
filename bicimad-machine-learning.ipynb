{
 "cells": [
  {
   "cell_type": "markdown",
   "metadata": {},
   "source": [
    "# BiciMAD - Machine learning predictions\n",
    "\n",
    "Copyright © 2017 Javi Ramírez <javi.rmrz@gmail.com> | [@rameerez [tw]](http://twitter.com/rameerez) | [GitHub](http://github.com/rameerez)\n",
    "\n",
    "This code is Open Source, released under the MIT License."
   ]
  },
  {
   "cell_type": "markdown",
   "metadata": {},
   "source": [
    "## Why/what\n",
    "We've studied the actual BiciMAD users' behavior in other notebooks – but can we predict user behavior using Artificial Intelligence?"
   ]
  },
  {
   "cell_type": "markdown",
   "metadata": {},
   "source": [
    "## Definitions"
   ]
  },
  {
   "cell_type": "code",
   "execution_count": 2,
   "metadata": {
    "collapsed": true
   },
   "outputs": [],
   "source": [
    "# Data describing all bike rides\n",
    "BIKE_RIDES_DATASET = './data/export_20170301_20170406.json'\n",
    "# Data describing all stations (used just for getting stations' coordinates & names)\n",
    "STATIONS_DATASET = './data/stations.json'"
   ]
  },
  {
   "cell_type": "code",
   "execution_count": 12,
   "metadata": {
    "collapsed": true
   },
   "outputs": [],
   "source": [
    "%matplotlib inline\n",
    "import pandas as pd\n",
    "import numpy as np\n",
    "import math\n",
    "import dateutil.parser\n",
    "from pandas.io.json import json_normalize"
   ]
  },
  {
   "cell_type": "code",
   "execution_count": 4,
   "metadata": {
    "collapsed": true
   },
   "outputs": [],
   "source": [
    "import tflearn"
   ]
  },
  {
   "cell_type": "code",
   "execution_count": 5,
   "metadata": {
    "collapsed": true
   },
   "outputs": [],
   "source": [
    "df = pd.read_json(BIKE_RIDES_DATASET, lines=True)"
   ]
  },
  {
   "cell_type": "code",
   "execution_count": 6,
   "metadata": {
    "collapsed": false
   },
   "outputs": [
    {
     "data": {
      "text/html": [
       "<div>\n",
       "<style scoped>\n",
       "    .dataframe tbody tr th:only-of-type {\n",
       "        vertical-align: middle;\n",
       "    }\n",
       "\n",
       "    .dataframe tbody tr th {\n",
       "        vertical-align: top;\n",
       "    }\n",
       "\n",
       "    .dataframe thead th {\n",
       "        text-align: right;\n",
       "    }\n",
       "</style>\n",
       "<table border=\"1\" class=\"dataframe\">\n",
       "  <thead>\n",
       "    <tr style=\"text-align: right;\">\n",
       "      <th></th>\n",
       "      <th>_id</th>\n",
       "      <th>ageRange</th>\n",
       "      <th>idplug_base</th>\n",
       "      <th>idplug_station</th>\n",
       "      <th>idunplug_base</th>\n",
       "      <th>idunplug_station</th>\n",
       "      <th>track</th>\n",
       "      <th>travel_time</th>\n",
       "      <th>unplug_hourTime</th>\n",
       "      <th>user_day_code</th>\n",
       "      <th>user_type</th>\n",
       "      <th>zip_code</th>\n",
       "    </tr>\n",
       "  </thead>\n",
       "  <tbody>\n",
       "    <tr>\n",
       "      <th>0</th>\n",
       "      <td>{'$oid': '58d1b3dd865e9c30d0b83c6f'}</td>\n",
       "      <td>4</td>\n",
       "      <td>4</td>\n",
       "      <td>17</td>\n",
       "      <td>5</td>\n",
       "      <td>14</td>\n",
       "      <td>NaN</td>\n",
       "      <td>2303</td>\n",
       "      <td>{'$date': '2017-03-01T00:00:00.000+0100'}</td>\n",
       "      <td>cc6d426ada96494d8dfe0fe0af512599f439cd9413d50c...</td>\n",
       "      <td>1</td>\n",
       "      <td>28012</td>\n",
       "    </tr>\n",
       "    <tr>\n",
       "      <th>1</th>\n",
       "      <td>{'$oid': '58d1b3dc865e9c30d0b83c6c'}</td>\n",
       "      <td>4</td>\n",
       "      <td>2</td>\n",
       "      <td>76</td>\n",
       "      <td>22</td>\n",
       "      <td>123</td>\n",
       "      <td>NaN</td>\n",
       "      <td>876</td>\n",
       "      <td>{'$date': '2017-03-01T00:00:00.000+0100'}</td>\n",
       "      <td>a81b44c3fe3c2f1e4bf723d228a0d025962228179c2e4d...</td>\n",
       "      <td>1</td>\n",
       "      <td>28009</td>\n",
       "    </tr>\n",
       "    <tr>\n",
       "      <th>2</th>\n",
       "      <td>{'$oid': '58d1b3dc865e9c30d0b83c6a'}</td>\n",
       "      <td>5</td>\n",
       "      <td>16</td>\n",
       "      <td>163</td>\n",
       "      <td>19</td>\n",
       "      <td>166</td>\n",
       "      <td>NaN</td>\n",
       "      <td>483</td>\n",
       "      <td>{'$date': '2017-03-01T00:00:00.000+0100'}</td>\n",
       "      <td>b20f0b657c493842b0aa5ebd32eed5d940c699715ee8bc...</td>\n",
       "      <td>1</td>\n",
       "      <td>28010</td>\n",
       "    </tr>\n",
       "  </tbody>\n",
       "</table>\n",
       "</div>"
      ],
      "text/plain": [
       "                                    _id  ageRange  idplug_base  \\\n",
       "0  {'$oid': '58d1b3dd865e9c30d0b83c6f'}         4            4   \n",
       "1  {'$oid': '58d1b3dc865e9c30d0b83c6c'}         4            2   \n",
       "2  {'$oid': '58d1b3dc865e9c30d0b83c6a'}         5           16   \n",
       "\n",
       "   idplug_station  idunplug_base  idunplug_station track  travel_time  \\\n",
       "0              17              5                14   NaN         2303   \n",
       "1              76             22               123   NaN          876   \n",
       "2             163             19               166   NaN          483   \n",
       "\n",
       "                             unplug_hourTime  \\\n",
       "0  {'$date': '2017-03-01T00:00:00.000+0100'}   \n",
       "1  {'$date': '2017-03-01T00:00:00.000+0100'}   \n",
       "2  {'$date': '2017-03-01T00:00:00.000+0100'}   \n",
       "\n",
       "                                       user_day_code  user_type zip_code  \n",
       "0  cc6d426ada96494d8dfe0fe0af512599f439cd9413d50c...          1    28012  \n",
       "1  a81b44c3fe3c2f1e4bf723d228a0d025962228179c2e4d...          1    28009  \n",
       "2  b20f0b657c493842b0aa5ebd32eed5d940c699715ee8bc...          1    28010  "
      ]
     },
     "execution_count": 6,
     "metadata": {},
     "output_type": "execute_result"
    }
   ],
   "source": [
    "df[:3]"
   ]
  },
  {
   "cell_type": "markdown",
   "metadata": {},
   "source": [
    "## Converting unplug time JSON to valid Datetime\n",
    "Unfortunately the `unplug_hourTime` comes in an unnecesarily descriptive JSON. Let's convert that to a valid `Datetime` so we can do stuff like `date.month`"
   ]
  },
  {
   "cell_type": "code",
   "execution_count": 27,
   "metadata": {
    "collapsed": false
   },
   "outputs": [],
   "source": [
    "def parse_unplug_datetime(row):\n",
    "    date_as_string = row['unplug_hourTime']['$date']\n",
    "    return dateutil.parser.parse(date_as_string)"
   ]
  },
  {
   "cell_type": "code",
   "execution_count": 28,
   "metadata": {
    "collapsed": true
   },
   "outputs": [],
   "source": [
    "df['unplug_datetime'] = df.apply(parse_unplug_datetime, axis=1)"
   ]
  },
  {
   "cell_type": "markdown",
   "metadata": {},
   "source": [
    "Yay! Valid datetimes. Let's now group by month, day and hour and plot the number of rides by hour"
   ]
  },
  {
   "cell_type": "code",
   "execution_count": 43,
   "metadata": {
    "collapsed": false
   },
   "outputs": [],
   "source": [
    "times = pd.DatetimeIndex(df.unplug_datetime)"
   ]
  },
  {
   "cell_type": "code",
   "execution_count": 62,
   "metadata": {
    "collapsed": false
   },
   "outputs": [
    {
     "data": {
      "text/plain": [
       "<matplotlib.axes._subplots.AxesSubplot at 0x220c68390>"
      ]
     },
     "execution_count": 62,
     "metadata": {},
     "output_type": "execute_result"
    },
    {
     "data": {
      "image/png": "[encoded data removed]",
      "text/plain": [
       "<matplotlib.figure.Figure at 0x2215f2a20>"
      ]
     },
     "metadata": {},
     "output_type": "display_data"
    }
   ],
   "source": [
    "df.groupby([times.month, times.day, times.hour])._id.count().plot()"
   ]
  }
 ],
 "metadata": {
  "kernelspec": {
   "display_name": "Python 3",
   "language": "python",
   "name": "python3"
  },
  "language_info": {
   "codemirror_mode": {
    "name": "ipython",
    "version": 3
   },
   "file_extension": ".py",
   "mimetype": "text/x-python",
   "name": "python",
   "nbconvert_exporter": "python",
   "pygments_lexer": "ipython3",
   "version": "3.5.3"
  }
 },
 "nbformat": 4,
 "nbformat_minor": 0
}
